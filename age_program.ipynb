{
 "cells": [
  {
   "cell_type": "code",
   "execution_count": null,
   "metadata": {},
   "outputs": [
    {
     "name": "stdin",
     "output_type": "stream",
     "text": [
      "Hi, what is your name?: CJ\n",
      "How old are you?: CJ\n"
     ]
    },
    {
     "name": "stdout",
     "output_type": "stream",
     "text": [
      "Please enter a number\n"
     ]
    }
   ],
   "source": [
    " name = input(\"Hi, what is your name?:\")\n",
    "\n",
    "while True:\n",
    "    try:\n",
    "        human_age = float(input(\"How old are you?:\"))\n",
    "        break\n",
    "    \n",
    "    except:\n",
    "        print(\"Please enter a number\")\n",
    "    \n",
    "dog_age = human_age * 7\n",
    "\n",
    "print(\"You are\", dog_age, \"years old in dog years\")"
   ]
  },
  {
   "cell_type": "code",
   "execution_count": null,
   "metadata": {},
   "outputs": [],
   "source": []
  }
 ],
 "metadata": {
  "kernelspec": {
   "display_name": "Python 3",
   "language": "python",
   "name": "python3"
  },
  "language_info": {
   "codemirror_mode": {
    "name": "ipython",
    "version": 3
   },
   "file_extension": ".py",
   "mimetype": "text/x-python",
   "name": "python",
   "nbconvert_exporter": "python",
   "pygments_lexer": "ipython3",
   "version": "3.8.3"
  }
 },
 "nbformat": 4,
 "nbformat_minor": 4
}
